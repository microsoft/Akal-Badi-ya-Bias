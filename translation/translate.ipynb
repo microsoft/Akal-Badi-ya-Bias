{
 "cells": [
  {
   "cell_type": "code",
   "execution_count": 1,
   "metadata": {},
   "outputs": [],
   "source": [
    "import numpy as np\n",
    "import pandas as pd\n",
    "from random import sample, seed\n",
    "from azure.ai.translation.text.models import InputTextItem\n",
    "from azure.ai.translation.text import TextTranslationClient, TranslatorCredential\n",
    "\n",
    "seed(42)\n",
    "\n",
    "endpoint = \"<azure-translation-endpoint>\"\n",
    "subscription_key = \"<azure-translation-subscription-key>\"\n",
    "location = \"centralindia\"\n",
    "\n",
    "text_translator = TextTranslationClient(\n",
    "    endpoint=endpoint, credential=TranslatorCredential(subscription_key, location)\n",
    ")"
   ]
  },
  {
   "cell_type": "code",
   "execution_count": 2,
   "metadata": {},
   "outputs": [],
   "source": [
    "def translate(from_lang, to_lang, input_string):\n",
    "    source_language = from_lang\n",
    "    target_languages = [to_lang]\n",
    "    input_text_elements = [InputTextItem(text=input_string)]\n",
    "\n",
    "    response = text_translator.translate(\n",
    "        content=input_text_elements,\n",
    "        to=target_languages,\n",
    "        from_parameter=source_language,\n",
    "    )\n",
    "    translation = response[0]\n",
    "    for translated_text in translation.translations:\n",
    "        return translated_text.text"
   ]
  },
  {
   "cell_type": "code",
   "execution_count": 3,
   "metadata": {},
   "outputs": [],
   "source": [
    "data = np.load(\"CORGI-PC_splitted_biased_corpus_v1.npy\", allow_pickle=True).item()\n",
    "data_sampled = sample(data[\"test\"][\"ori_sentence\"].tolist(), k=100)\n",
    "data_sampled_translated = [translate(\"zh\", \"hi\", sentence) for sentence in data_sampled]\n",
    "    \n",
    "df = pd.DataFrame({\"source\": data_sampled, \"translation\": data_sampled_translated})\n",
    "df.to_excel(\"CORGI_PM_sampled_translated.xlsx\", index=False)"
   ]
  },
  {
   "cell_type": "code",
   "execution_count": 5,
   "metadata": {},
   "outputs": [],
   "source": [
    "df_ = pd.read_csv(\"full_BUG.csv\")\n",
    "mask = df_[\"stereotype\"] == 1\n",
    "df_ = df_[mask].sample(n=100)\n",
    "\n",
    "data_sampled = df_[\"sentence_text\"].tolist()\n",
    "data_sampled_translated = [translate(\"en\", \"hi\", sentence) for sentence in data_sampled]\n",
    "\n",
    "df = pd.DataFrame({\"source\": data_sampled, \"translation\": data_sampled_translated})\n",
    "df.to_excel(\"full_BUG_sampled_translated.xlsx\", index=False)"
   ]
  }
 ],
 "metadata": {
  "kernelspec": {
   "display_name": "ofa",
   "language": "python",
   "name": "python3"
  },
  "language_info": {
   "codemirror_mode": {
    "name": "ipython",
    "version": 3
   },
   "file_extension": ".py",
   "mimetype": "text/x-python",
   "name": "python",
   "nbconvert_exporter": "python",
   "pygments_lexer": "ipython3",
   "version": "3.10.13"
  }
 },
 "nbformat": 4,
 "nbformat_minor": 2
}
